{
 "cells": [
  {
   "cell_type": "markdown",
   "metadata": {},
   "source": [
    "# Defining and customising how record comparisons are made\n",
    "\n",
    "A key feature of Splink is the ability to customise how record comparisons are made - that is, how similarity is defined for different data types.  For example, the definition of similarity that is appropriate for a date of birth field is different than for a first name field.\n",
    "\n",
    "By tailoring the definitions of similarity, linking models are more effectively able to distinguish beteween different gradations of similarity, leading to more accurate data linking models.\n",
    "\n",
    "Note that for performance reasons, Splink requires the user to define `n` discrete levels (gradations) of similarity.\n",
    "\n",
    "## Comparing information\n",
    "\n",
    "Comparisons are defined on pairwise record comparisons.  Suppose for instance your data contains `first_name` and `surname` and `dob`:\n",
    "\n",
    "|id |first_name|surname|dob       |\n",
    "|---|----------|-------|----------|\n",
    "|1  |john      |smith  |1991-04-11|\n",
    "|2  |jon       |smith  |1991-04-17|\n",
    "|3  |john      |smyth  |1991-04-11|\n",
    "\n",
    "To compare these records, at the blocking stage, Splink will set these records against each other in a table of pairwise record comparisons:\n",
    "\n",
    "|id_l|id_r|first_name_l|first_name_r|surname_l|surname_r|dob_l     |dob_r     |\n",
    "|----|----|------------|------------|---------|---------|----------|----------|\n",
    "|1   |2   |john        |jon         |smith    |smith    |1991-04-11|1991-04-17|\n",
    "|1   |3   |john        |john        |smith    |smyth    |1991-04-11|1991-04-11|\n",
    "|2   |3   |jon         |john        |smith    |smyth    |1991-04-17|1991-04-11|\n",
    "\n",
    "\n",
    "When defining comparisons, we are defining rules that operate on each row of this latter table of pairwise comparisons\n",
    "\n",
    "## `Comparisons`, `ComparisonTemplates` and `ComparisonLevels`\n",
    "\n",
    "A Splink model contains a collection of `Comparisons` and `ComparisonLevels` organised in a hierarchy.  An example is as follows:\n",
    "\n",
    "```\n",
    "Data Linking Model\n",
    "├─-- Comparison: Date of birth\n",
    "│    ├─-- ComparisonLevel: Exact match\n",
    "│    ├─-- ComparisonLevel: Up to one character difference\n",
    "│    ├─-- ComparisonLevel: Up to three character difference\n",
    "│    ├─-- ComparisonLevel: All other\n",
    "├─-- Comparison: Name\n",
    "│    ├─-- ComparisonLevel: Exact match on first name and surname\n",
    "│    ├─-- ComparisonLevel: Exact match on first name\n",
    "│    ├─-- etc.\n",
    "```\n",
    "\n",
    "A fuller description of `Comaprison`s and `ComparisonLevel`s can be found [here](https://moj-analytical-services.github.io/splink/comparison.html) and [here](https://moj-analytical-services.github.io/splink/comparison_level.html) respectively.\n",
    "\n",
    "\n",
    "How are these comparisons specified?\n",
    "\n"
   ]
  },
  {
   "cell_type": "markdown",
   "metadata": {},
   "source": [
    "### Three ways of specifying Comparisons\n",
    "\n",
    "In Splink, there are three ways of specifying `Comparisons`:\n",
    "\n",
    "- Using pre-baked comparisons from a backend's `ComparisonLibrary` or `ComparisonTemplateLibrary`.   (Most simple/succinct)\n",
    "- Composing pre-defined `ComparisonLevels` from a backend's `ComparisonLevelLibrary`\n",
    "- Writing a full spec of a `Comparison` by hand (most verbose/flexible)"
   ]
  },
  {
   "cell_type": "markdown",
   "metadata": {},
   "source": [
    "## Method 1: Using the `ComparisonLibrary`\n",
    "\n",
    "The `ComparisonLibrary` for a each backend (`DuckDB`, `Spark`, etc.) contains pre-baked similarity functions that cover many common use cases.\n",
    "\n",
    "These functions generate an entire `Comparison`, composed of several `ComparisonLevels`\n",
    "\n",
    "The following provides an example of using the `ComparisonLibrary` for DuckDB."
   ]
  },
  {
   "cell_type": "code",
   "execution_count": 6,
   "metadata": {},
   "outputs": [
    {
     "name": "stdout",
     "output_type": "stream",
     "text": [
      "Comparison 'Exact match vs. anything else' of \"first_name\".\n",
      "Similarity is assessed using the following ComparisonLevels:\n",
      "    - 'Null' with SQL rule: \"first_name_l\" IS NULL OR \"first_name_r\" IS NULL\n",
      "    - 'Exact match' with SQL rule: \"first_name_l\" = \"first_name_r\"\n",
      "    - 'All other comparisons' with SQL rule: ELSE\n",
      "\n"
     ]
    }
   ],
   "source": [
    "from splink.duckdb.duckdb_comparison_library import (\n",
    "    exact_match,\n",
    "    levenshtein_at_thresholds,\n",
    ")\n",
    "\n",
    "first_name_comparison = exact_match(\"first_name\")\n",
    "print(first_name_comparison.human_readable_description)"
   ]
  },
  {
   "cell_type": "markdown",
   "metadata": {},
   "source": [
    "Note that, under the hood, these functions generate a Python dictionary, which conforms to the underlying `.json` specification of a model:"
   ]
  },
  {
   "cell_type": "code",
   "execution_count": 7,
   "metadata": {},
   "outputs": [
    {
     "data": {
      "text/plain": [
       "{'output_column_name': 'first_name',\n",
       " 'comparison_levels': [{'sql_condition': '\"first_name_l\" IS NULL OR \"first_name_r\" IS NULL',\n",
       "   'label_for_charts': 'Null',\n",
       "   'is_null_level': True},\n",
       "  {'sql_condition': '\"first_name_l\" = \"first_name_r\"',\n",
       "   'label_for_charts': 'Exact match'},\n",
       "  {'sql_condition': 'ELSE', 'label_for_charts': 'All other comparisons'}],\n",
       " 'comparison_description': 'Exact match vs. anything else'}"
      ]
     },
     "execution_count": 7,
     "metadata": {},
     "output_type": "execute_result"
    }
   ],
   "source": [
    "first_name_comparison.as_dict()"
   ]
  },
  {
   "cell_type": "markdown",
   "metadata": {},
   "source": [
    "We can now generate a second, more complex comparison:"
   ]
  },
  {
   "cell_type": "code",
   "execution_count": 8,
   "metadata": {},
   "outputs": [
    {
     "name": "stdout",
     "output_type": "stream",
     "text": [
      "Comparison 'Exact match vs. levenshtein at thresholds 1, 2 vs. anything else' of \"dob\".\n",
      "Similarity is assessed using the following ComparisonLevels:\n",
      "    - 'Null' with SQL rule: \"dob_l\" IS NULL OR \"dob_r\" IS NULL\n",
      "    - 'Exact match' with SQL rule: \"dob_l\" = \"dob_r\"\n",
      "    - 'Levenshtein <= 1' with SQL rule: levenshtein(\"dob_l\", \"dob_r\") <= 1\n",
      "    - 'Levenshtein <= 2' with SQL rule: levenshtein(\"dob_l\", \"dob_r\") <= 2\n",
      "    - 'All other comparisons' with SQL rule: ELSE\n",
      "\n"
     ]
    }
   ],
   "source": [
    "from splink.duckdb.duckdb_comparison_library import (\n",
    "    exact_match,\n",
    "    levenshtein_at_thresholds,\n",
    ")\n",
    "\n",
    "dob_comparison = levenshtein_at_thresholds(\"dob\", [1, 2])\n",
    "print(dob_comparison.human_readable_description)"
   ]
  },
  {
   "cell_type": "markdown",
   "metadata": {},
   "source": [
    "These `Comparisons` can be specified in a data linking model as follows:"
   ]
  },
  {
   "cell_type": "code",
   "execution_count": 9,
   "metadata": {},
   "outputs": [],
   "source": [
    "settings = {\n",
    "    \"link_type\": \"dedupe_only\",\n",
    "    \"blocking_rules_to_generate_predictions\": [\n",
    "        \"l.first_name = r.first_name\",\n",
    "        \"l.surname = r.surname\",\n",
    "    ],\n",
    "    \"comparisons\": [\n",
    "        exact_match(\"first_name\"),\n",
    "        levenshtein_at_thresholds(\"dob\", [1, 2]),\n",
    "    ],\n",
    "}"
   ]
  },
  {
   "cell_type": "markdown",
   "metadata": {},
   "source": [
    "## Method 2: Using the `ComparisonTemplateLibrary`\n",
    "\n",
    "The `ComparisonTemplateLibrary` is very similar to `ComparisonLibrary` in that it contains pre-baked similarity functions for each backend (DuckDB, Spark, etc.) to cover common use cases.\n",
    "\n",
    "The key difference is that `ComparisonTemplateLibrary` contains functions to generate a 'best practice' `Comparison` based on the type of data in a given column. This includes: \n",
    " \n",
    "- How comparison is structured (what comparison levels are included, and in what order) \n",
    "- Default parameters (e.g. `levenshtein_thresholds = [1,2]`)\n",
    "\n",
    "The following provides an example of using the ComparisonTemplateLibrary for DuckDB."
   ]
  },
  {
   "cell_type": "code",
   "execution_count": 10,
   "metadata": {},
   "outputs": [
    {
     "name": "stdout",
     "output_type": "stream",
     "text": [
      "Comparison 'Exact match vs. Dates within levenshtein thresholds 1, 2 vs. Dates within the following thresholds Year(s): 1, Year(s): 10 vs. anything else' of \"date_of_birth\".\n",
      "Similarity is assessed using the following ComparisonLevels:\n",
      "    - 'Null' with SQL rule: \"date_of_birth_l\" IS NULL OR \"date_of_birth_r\" IS NULL\n",
      "    - 'Exact match' with SQL rule: \"date_of_birth_l\" = \"date_of_birth_r\"\n",
      "    - 'Levenshtein <= 1' with SQL rule: levenshtein(\"date_of_birth_l\", \"date_of_birth_r\") <= 1\n",
      "    - 'Levenshtein <= 2' with SQL rule: levenshtein(\"date_of_birth_l\", \"date_of_birth_r\") <= 2\n",
      "    - 'Within 1 year' with SQL rule: \n",
      "        abs(date_diff('year', \"date_of_birth_l\", \"date_of_birth_r\")) <= 1\n",
      "    \n",
      "    - 'Within 10 years' with SQL rule: \n",
      "        abs(date_diff('year', \"date_of_birth_l\", \"date_of_birth_r\")) <= 10\n",
      "    \n",
      "    - 'All other comparisons' with SQL rule: ELSE\n",
      "\n"
     ]
    }
   ],
   "source": [
    "from splink.duckdb.duckdb_comparison_template_library import (\n",
    "    date_comparison\n",
    ")\n",
    "\n",
    "date_of_birth_comparison = date_comparison(\"date_of_birth\")\n",
    "print(date_of_birth_comparison.human_readable_description)"
   ]
  },
  {
   "cell_type": "markdown",
   "metadata": {},
   "source": [
    "These `Comparisons` can be specified in a data linking model as follows:"
   ]
  },
  {
   "cell_type": "code",
   "execution_count": 11,
   "metadata": {},
   "outputs": [],
   "source": [
    "settings = {\n",
    "    \"link_type\": \"dedupe_only\",\n",
    "    \"blocking_rules_to_generate_predictions\": [\n",
    "        \"l.first_name = r.first_name\",\n",
    "        \"l.surname = r.surname\",\n",
    "    ],\n",
    "    \"comparisons\": [\n",
    "        exact_match(\"first_name\"),\n",
    "        date_comparison(\"dob\"),\n",
    "\n",
    "    ]\n",
    "}"
   ]
  },
  {
   "cell_type": "markdown",
   "metadata": {},
   "source": [
    "You can customise a `ComparisonTemplate` by choosing your own values for the [function parameters](../comparison_template_library.md), but for anything more bespoke you will want to construct a `Comparison` with `ComparisonLevels` or provide the spec as a dictionary."
   ]
  },
  {
   "cell_type": "markdown",
   "metadata": {},
   "source": [
    "## Method 3: `ComparisonLevels`\n",
    "\n",
    "The `ComparisonLevels` API provides a lower-level API that gives the user greater control over their comparisons.\n",
    "\n",
    "For example, the user may wish to specify a comparison that has levels for a match on dmetaphone and jaro_winkler of the `first_name` field.  \n",
    "\n",
    "The below example assumes the user has derived a column `dmeta_first_name` which contains the dmetaphone of the first name."
   ]
  },
  {
   "cell_type": "code",
   "execution_count": 12,
   "metadata": {},
   "outputs": [
    {
     "name": "stdout",
     "output_type": "stream",
     "text": [
      "Comparison 'First name jaro dmeta' of `first_name` and `dmeta_first_name`.\n",
      "Similarity is assessed using the following ComparisonLevels:\n",
      "    - 'Null' with SQL rule: `first_name_l` IS NULL OR `first_name_r` IS NULL\n",
      "    - 'Exact match' with SQL rule: `first_name_l` = `first_name_r`\n",
      "    - 'Exact match' with SQL rule: `dmeta_first_name_l` = `dmeta_first_name_r`\n",
      "    - 'All other comparisons' with SQL rule: ELSE\n",
      "\n"
     ]
    }
   ],
   "source": [
    "from splink.spark.spark_comparison_level_library import (\n",
    "    exact_match_level,\n",
    "    null_level,\n",
    "    else_level,\n",
    ")\n",
    "from splink.spark.spark_comparison_library import levenshtein_at_thresholds\n",
    "\n",
    "comparison_first_name = {\n",
    "    \"output_column_name\": \"first_name\",\n",
    "    \"comparison_description\": \"First name jaro dmeta\",\n",
    "    \"comparison_levels\": [\n",
    "        null_level(\"first_name\"),\n",
    "        exact_match_level(\"first_name\", term_frequency_adjustments=True),\n",
    "        exact_match_level(\"dmeta_first_name\", term_frequency_adjustments=True),\n",
    "        else_level(),\n",
    "    ],\n",
    "}\n",
    "\n",
    "\n",
    "from splink.comparison import Comparison\n",
    "\n",
    "print(Comparison(comparison_first_name).human_readable_description)"
   ]
  },
  {
   "cell_type": "markdown",
   "metadata": {},
   "source": [
    "This can now be specified in the settings dictionary as follows:"
   ]
  },
  {
   "cell_type": "code",
   "execution_count": 13,
   "metadata": {},
   "outputs": [],
   "source": [
    "settings = {\n",
    "    \"link_type\": \"dedupe_only\",\n",
    "    \"blocking_rules_to_generate_predictions\": [\n",
    "        \"l.first_name = r.first_name\",\n",
    "        \"l.surname = r.surname\",\n",
    "    ],\n",
    "    \"comparisons\": [\n",
    "        comparison_first_name,  # The comparison specified above using ComparisonLevels\n",
    "        levenshtein_at_thresholds(\n",
    "            \"dob\", [1, 2], term_frequency_adjustments=True\n",
    "        ),  # From comparison_library\n",
    "    ],\n",
    "}"
   ]
  },
  {
   "cell_type": "markdown",
   "metadata": {},
   "source": [
    "## Method 4: Providing the spec as a dictionary\n",
    "\n",
    "Ultimately, comparisons are specified as a dictionary which conforms to [the formal `jsonschema` specification of the settings dictionary](https://github.com/moj-analytical-services/splink/blob/master/splink/files/settings_jsonschema.json) and [here](https://moj-analytical-services.github.io/splink/).\n",
    "\n",
    "The library functions described above are convenience functions that provide a shorthand way to produce valid dictionaries.\n",
    "\n",
    "For maximium control over your settings, you can specify your comparisons as a dictionary."
   ]
  },
  {
   "cell_type": "code",
   "execution_count": 14,
   "metadata": {},
   "outputs": [],
   "source": [
    "comparison_first_name = {\n",
    "    \"output_column_name\": \"first_name\",\n",
    "    \"comparison_description\": \"First name jaro dmeta\",\n",
    "    \"comparison_levels\": [\n",
    "        {\n",
    "            \"sql_condition\": \"first_name_l IS NULL OR first_name_r IS NULL\",\n",
    "            \"label_for_charts\": \"Null\",\n",
    "            \"is_null_level\": True,\n",
    "        },\n",
    "        {\n",
    "            \"sql_condition\": \"first_name_l = first_name_r\",\n",
    "            \"label_for_charts\": \"Exact match\",\n",
    "            \"tf_adjustment_column\": \"first_name\",\n",
    "            \"tf_adjustment_weight\": 1.0,\n",
    "            \"tf_minimum_u_value\": 0.001,\n",
    "        },\n",
    "        {\n",
    "            \"sql_condition\": \"dmeta_first_name_l = dmeta_first_name_r\",\n",
    "            \"label_for_charts\": \"Exact match\",\n",
    "            \"tf_adjustment_column\": \"dmeta_first_name\",\n",
    "            \"tf_adjustment_weight\": 1.0,\n",
    "        },\n",
    "        {\n",
    "            \"sql_condition\": \"jaro_winkler_sim(first_name_l, first_name_r) > 0.8\",\n",
    "            \"label_for_charts\": \"Exact match\",\n",
    "            \"tf_adjustment_column\": \"first_name\",\n",
    "            \"tf_adjustment_weight\": 0.5,\n",
    "            \"tf_minimum_u_value\": 0.001,\n",
    "        },\n",
    "        {\"sql_condition\": \"ELSE\", \"label_for_charts\": \"All other comparisons\"},\n",
    "    ],\n",
    "}\n",
    "\n",
    "settings = {\n",
    "    \"link_type\": \"dedupe_only\",\n",
    "    \"blocking_rules_to_generate_predictions\": [\n",
    "        \"l.first_name = r.first_name\",\n",
    "        \"l.surname = r.surname\",\n",
    "    ],\n",
    "    \"comparisons\": [\n",
    "        comparison_first_name,  # The comparison specified above using the dict\n",
    "        levenshtein_at_thresholds(\n",
    "            \"dob\", [1, 2], term_frequency_adjustments=True\n",
    "        ),  # From comparison_library\n",
    "    ],\n",
    "}"
   ]
  },
  {
   "attachments": {},
   "cell_type": "markdown",
   "metadata": {},
   "source": [
    "## Creating Comparisons for specific data types\n",
    "\n",
    "Similarity is defined differently for types of data (e.g. names, dates of birth, postcodes, addresses, ids). Below are examples of how to structure comparisons for a variety of data types."
   ]
  },
  {
   "cell_type": "markdown",
   "metadata": {},
   "source": [
    "### Date Comparisons\n",
    "\n",
    "Date comparisons are generally structured as: \n",
    "\n",
    "- Null level  \n",
    "- Exact match  \n",
    "- Fuzzy match ([using metric of choice](comparators.md))  \n",
    "- Interval match (within X days/months/years)  \n",
    "- Else level\n",
    "\n",
    "The [comparison_template_library](#method-2-using-the-comparisontemplatelibrary) contains the `date_comparison` function which gives this structure, with some pre-defined parameters, out-of-the-box."
   ]
  },
  {
   "cell_type": "code",
   "execution_count": 15,
   "metadata": {},
   "outputs": [
    {
     "name": "stdout",
     "output_type": "stream",
     "text": [
      "Comparison 'Exact match vs. Dates within levenshtein thresholds 1, 2 vs. Dates within the following thresholds Year(s): 1, Year(s): 10 vs. anything else' of \"date_of_birth\".\n",
      "Similarity is assessed using the following ComparisonLevels:\n",
      "    - 'Null' with SQL rule: \"date_of_birth_l\" IS NULL OR \"date_of_birth_r\" IS NULL\n",
      "    - 'Exact match' with SQL rule: \"date_of_birth_l\" = \"date_of_birth_r\"\n",
      "    - 'Levenshtein <= 1' with SQL rule: levenshtein(\"date_of_birth_l\", \"date_of_birth_r\") <= 1\n",
      "    - 'Levenshtein <= 2' with SQL rule: levenshtein(\"date_of_birth_l\", \"date_of_birth_r\") <= 2\n",
      "    - 'Within 1 year' with SQL rule: \n",
      "        abs(date_diff('year', \"date_of_birth_l\", \"date_of_birth_r\")) <= 1\n",
      "    \n",
      "    - 'Within 10 years' with SQL rule: \n",
      "        abs(date_diff('year', \"date_of_birth_l\", \"date_of_birth_r\")) <= 10\n",
      "    \n",
      "    - 'All other comparisons' with SQL rule: ELSE\n",
      "\n"
     ]
    }
   ],
   "source": [
    "from splink.duckdb.duckdb_comparison_template_library import (\n",
    "    date_comparison\n",
    ")\n",
    "\n",
    "date_of_birth_comparison = date_comparison(\"date_of_birth\")\n",
    "print(date_of_birth_comparison.human_readable_description)"
   ]
  },
  {
   "cell_type": "markdown",
   "metadata": {},
   "source": [
    "While also allowing flexibility to change the paramaters and/or fuzzy matching comparison level.\n",
    "\n",
    "For example:"
   ]
  },
  {
   "cell_type": "code",
   "execution_count": 16,
   "metadata": {},
   "outputs": [
    {
     "name": "stdout",
     "output_type": "stream",
     "text": [
      "Comparison 'Exact match vs. Dates within jaro_winkler threshold 0.88 vs. Dates within the following thresholds Month(s): 1, Year(s): 1 vs. anything else' of \"date_of_birth\".\n",
      "Similarity is assessed using the following ComparisonLevels:\n",
      "    - 'Null' with SQL rule: \"date_of_birth_l\" IS NULL OR \"date_of_birth_r\" IS NULL\n",
      "    - 'Exact match' with SQL rule: \"date_of_birth_l\" = \"date_of_birth_r\"\n",
      "    - 'Jaro_winkler_similarity >= 0.88' with SQL rule: jaro_winkler_similarity(\"date_of_birth_l\", \"date_of_birth_r\") >= 0.88\n",
      "    - 'Within 1 month' with SQL rule: \n",
      "        abs(date_diff('month', \"date_of_birth_l\", \"date_of_birth_r\")) <= 1\n",
      "    \n",
      "    - 'Within 1 year' with SQL rule: \n",
      "        abs(date_diff('year', \"date_of_birth_l\", \"date_of_birth_r\")) <= 1\n",
      "    \n",
      "    - 'All other comparisons' with SQL rule: ELSE\n",
      "\n"
     ]
    }
   ],
   "source": [
    "date_of_birth_comparison = date_comparison(\n",
    "                                    \"date_of_birth\",\n",
    "                                    levenshtein_thresholds=[],\n",
    "                                    jaro_winkler_thresholds=[0.88],\n",
    "                                    datediff_thresholds=[1, 1],\n",
    "                                    datediff_metrics=[\"month\", \"year\"])\n",
    "print(date_of_birth_comparison.human_readable_description)"
   ]
  },
  {
   "attachments": {},
   "cell_type": "markdown",
   "metadata": {},
   "source": [
    "To see this as a specifications dictionary you can call"
   ]
  },
  {
   "cell_type": "code",
   "execution_count": 17,
   "metadata": {},
   "outputs": [
    {
     "data": {
      "text/plain": [
       "{'output_column_name': 'date_of_birth',\n",
       " 'comparison_levels': [{'sql_condition': '\"date_of_birth_l\" IS NULL OR \"date_of_birth_r\" IS NULL',\n",
       "   'label_for_charts': 'Null',\n",
       "   'is_null_level': True},\n",
       "  {'sql_condition': '\"date_of_birth_l\" = \"date_of_birth_r\"',\n",
       "   'label_for_charts': 'Exact match'},\n",
       "  {'sql_condition': 'jaro_winkler_similarity(\"date_of_birth_l\", \"date_of_birth_r\") >= 0.88',\n",
       "   'label_for_charts': 'Jaro_winkler_similarity >= 0.88'},\n",
       "  {'sql_condition': '\\n        abs(date_diff(\\'month\\', \"date_of_birth_l\", \"date_of_birth_r\")) <= 1\\n    ',\n",
       "   'label_for_charts': 'Within 1 month'},\n",
       "  {'sql_condition': '\\n        abs(date_diff(\\'year\\', \"date_of_birth_l\", \"date_of_birth_r\")) <= 1\\n    ',\n",
       "   'label_for_charts': 'Within 1 year'},\n",
       "  {'sql_condition': 'ELSE', 'label_for_charts': 'All other comparisons'}],\n",
       " 'comparison_description': 'Exact match vs. Dates within jaro_winkler threshold 0.88 vs. Dates within the following thresholds Month(s): 1, Year(s): 1 vs. anything else'}"
      ]
     },
     "execution_count": 17,
     "metadata": {},
     "output_type": "execute_result"
    }
   ],
   "source": [
    "date_of_birth_comparison.as_dict()"
   ]
  },
  {
   "attachments": {},
   "cell_type": "markdown",
   "metadata": {},
   "source": [
    "Which can be used as the basis for a more custom comparison, as in [Method 4](#method-4-providing-the-spec-as-a-dictionary), if desired."
   ]
  },
  {
   "attachments": {},
   "cell_type": "markdown",
   "metadata": {},
   "source": [
    "### Name Comparisons\n",
    "\n",
    "Name comparisons for an individual name column (e.g. forename, surname) are generally structured as: \n",
    "\n",
    "- Null level  \n",
    "- Exact match  \n",
    "- Fuzzy match ([using metric of choice](comparators.md))  \n",
    "- Else level\n",
    "\n",
    "The [comparison_template_library](#method-2-using-the-comparisontemplatelibrary) contains the `name_comparison` function which gives this structure, with some pre-defined parameters, out-of-the-box."
   ]
  },
  {
   "cell_type": "code",
   "execution_count": 18,
   "metadata": {},
   "outputs": [
    {
     "name": "stdout",
     "output_type": "stream",
     "text": [
      "Comparison 'Exact match vs. Names within jaro_winkler thresholds 0.95, 0.88 vs. anything else' of \"first_name\".\n",
      "Similarity is assessed using the following ComparisonLevels:\n",
      "    - 'Null' with SQL rule: \"first_name_l\" IS NULL OR \"first_name_r\" IS NULL\n",
      "    - 'Exact match first_name' with SQL rule: \"first_name_l\" = \"first_name_r\"\n",
      "    - 'Jaro_winkler_similarity >= 0.95' with SQL rule: jaro_winkler_similarity(\"first_name_l\", \"first_name_r\") >= 0.95\n",
      "    - 'Jaro_winkler_similarity >= 0.88' with SQL rule: jaro_winkler_similarity(\"first_name_l\", \"first_name_r\") >= 0.88\n",
      "    - 'All other comparisons' with SQL rule: ELSE\n",
      "\n"
     ]
    }
   ],
   "source": [
    "from splink.duckdb.duckdb_comparison_template_library import (\n",
    "    name_comparison\n",
    ")\n",
    "\n",
    "first_name_comparison = name_comparison(\"first_name\")\n",
    "print(first_name_comparison.human_readable_description)"
   ]
  },
  {
   "attachments": {},
   "cell_type": "markdown",
   "metadata": {},
   "source": [
    "While also allowing flexibility to change the paramaters and/or fuzzy matching comparison level.\n",
    "\n",
    "For example:"
   ]
  },
  {
   "cell_type": "code",
   "execution_count": 19,
   "metadata": {},
   "outputs": [
    {
     "name": "stdout",
     "output_type": "stream",
     "text": [
      "Comparison 'Exact match vs. Names with phonetic exact match vs. Dates within levenshtein threshold 2 vs. Names within jaccard threshold 1 vs. anything else' of \"surname\" and \"surname_dm\".\n",
      "Similarity is assessed using the following ComparisonLevels:\n",
      "    - 'Null' with SQL rule: \"surname_l\" IS NULL OR \"surname_r\" IS NULL\n",
      "    - 'Exact match surname' with SQL rule: \"surname_l\" = \"surname_r\"\n",
      "    - 'Exact match surname_dm' with SQL rule: \"surname_dm_l\" = \"surname_dm_r\"\n",
      "    - 'Levenshtein <= 2' with SQL rule: levenshtein(\"surname_l\", \"surname_r\") <= 2\n",
      "    - 'Jaccard >= 1' with SQL rule: jaccard(\"surname_l\", \"surname_r\") >= 1\n",
      "    - 'All other comparisons' with SQL rule: ELSE\n",
      "\n"
     ]
    }
   ],
   "source": [
    "surname_comparison = name_comparison(\n",
    "                                    \"surname\",\n",
    "                                    phonetic_col_name = \"surname_dm\",\n",
    "                                    term_frequency_adjustments_name = True,\n",
    "                                    levenshtein_thresholds=[2],\n",
    "                                    jaro_winkler_thresholds=[],\n",
    "                                    jaccard_thresholds=[1]\n",
    "                                    )\n",
    "print(surname_comparison.human_readable_description)"
   ]
  },
  {
   "attachments": {},
   "cell_type": "markdown",
   "metadata": {},
   "source": [
    "Where `surname_dm` refers to a column which has used the DoubleMetaphone algorithm on `surname` to give a phonetic spelling. This helps to catch names which sounds the same but have different spellings (e.g. Stephens vs Stevens). For more on Phonetic Transformations, see the [topic guide](phonetic.md)."
   ]
  },
  {
   "attachments": {},
   "cell_type": "markdown",
   "metadata": {},
   "source": [
    "To see this as a specifications dictionary you can call"
   ]
  },
  {
   "cell_type": "code",
   "execution_count": 20,
   "metadata": {},
   "outputs": [
    {
     "data": {
      "text/plain": [
       "{'output_column_name': 'custom_surname_surname_dm',\n",
       " 'comparison_levels': [{'sql_condition': '\"surname_l\" IS NULL OR \"surname_r\" IS NULL',\n",
       "   'label_for_charts': 'Null',\n",
       "   'is_null_level': True},\n",
       "  {'sql_condition': '\"surname_l\" = \"surname_r\"',\n",
       "   'label_for_charts': 'Exact match surname',\n",
       "   'tf_adjustment_column': 'surname',\n",
       "   'tf_adjustment_weight': 1.0},\n",
       "  {'sql_condition': '\"surname_dm_l\" = \"surname_dm_r\"',\n",
       "   'label_for_charts': 'Exact match surname_dm'},\n",
       "  {'sql_condition': 'levenshtein(\"surname_l\", \"surname_r\") <= 2',\n",
       "   'label_for_charts': 'Levenshtein <= 2'},\n",
       "  {'sql_condition': 'jaccard(\"surname_l\", \"surname_r\") >= 1',\n",
       "   'label_for_charts': 'Jaccard >= 1'},\n",
       "  {'sql_condition': 'ELSE', 'label_for_charts': 'All other comparisons'}],\n",
       " 'comparison_description': 'Exact match vs. Names with phonetic exact match vs. Dates within levenshtein threshold 2 vs. Names within jaccard threshold 1 vs. anything else'}"
      ]
     },
     "execution_count": 20,
     "metadata": {},
     "output_type": "execute_result"
    }
   ],
   "source": [
    "surname_comparison.as_dict()"
   ]
  },
  {
   "attachments": {},
   "cell_type": "markdown",
   "metadata": {},
   "source": [
    "Which can be used as the basis for a more custom comparison, as in [Method 4](#method-4-providing-the-spec-as-a-dictionary), if desired."
   ]
  }
 ],
 "metadata": {
  "kernelspec": {
   "display_name": "Python 3.9.2 ('splink-venv': venv)",
   "language": "python",
   "name": "python3"
  },
  "language_info": {
   "codemirror_mode": {
    "name": "ipython",
    "version": 3
   },
   "file_extension": ".py",
   "mimetype": "text/x-python",
   "name": "python",
   "nbconvert_exporter": "python",
   "pygments_lexer": "ipython3",
   "version": "3.9.2"
  },
  "vscode": {
   "interpreter": {
    "hash": "a48c72d7d87a1a03872c2328bc7c3d312b8461ea67915604a878c0e034a87923"
   }
  }
 },
 "nbformat": 4,
 "nbformat_minor": 4
}
